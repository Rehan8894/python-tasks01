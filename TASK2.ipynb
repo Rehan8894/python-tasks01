{
  "nbformat": 4,
  "nbformat_minor": 0,
  "metadata": {
    "colab": {
      "provenance": [],
      "authorship_tag": "ABX9TyO/G1zeeocd3PY3JFbMhouu",
      "include_colab_link": true
    },
    "kernelspec": {
      "name": "python3",
      "display_name": "Python 3"
    },
    "language_info": {
      "name": "python"
    }
  },
  "cells": [
    {
      "cell_type": "markdown",
      "metadata": {
        "id": "view-in-github",
        "colab_type": "text"
      },
      "source": [
        "<a href=\"https://colab.research.google.com/github/Rehan8894/python-tasks01/blob/main/TASK2.ipynb\" target=\"_parent\"><img src=\"https://colab.research.google.com/assets/colab-badge.svg\" alt=\"Open In Colab\"/></a>"
      ]
    },
    {
      "cell_type": "code",
      "source": [
        "# Task 2: Create a Personalized Greeting\n",
        "# prompt: Problem Statement: Write a Python program that:\n",
        "# 1.  Takes a user's first name and last name as input.\n",
        "# 2.  Concatenates the first name and last name into a full name.\n",
        "# 3.  Prints a personalized greeting message using the full name\n",
        "\n",
        "first_name = input(\"Enter your first name: \")\n",
        "last_name = input(\"Enter your last name: \")\n",
        "\n",
        "full_name = first_name + \" \" + last_name\n",
        "\n",
        "print(\"Hello, \" + full_name + \"! Welcome!\")"
      ],
      "metadata": {
        "id": "5z2-40n1DdJu"
      },
      "execution_count": null,
      "outputs": []
    },
    {
      "cell_type": "code",
      "source": [],
      "metadata": {
        "id": "UtoyiLQjDmYc"
      },
      "execution_count": null,
      "outputs": []
    }
  ]
}